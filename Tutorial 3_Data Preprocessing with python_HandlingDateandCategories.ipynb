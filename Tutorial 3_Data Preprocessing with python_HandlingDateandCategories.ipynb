{
 "cells": [
  {
   "cell_type": "markdown",
   "metadata": {},
   "source": [
    "## Handle date"
   ]
  },
  {
   "cell_type": "code",
   "execution_count": null,
   "metadata": {},
   "outputs": [],
   "source": [
    "import pandas as pd\n",
    "import numpy as np\n",
    "df = pd.DataFrame({\"date\": [\"2020.10.01\", \"2020.10.02\", \"2020.10.03\"]})\n",
    "df"
   ]
  },
  {
   "cell_type": "code",
   "execution_count": null,
   "metadata": {},
   "outputs": [],
   "source": [
    "# Converts date string column to python datetime type\n",
    "# `infer_datetime_format=True` says method to guess date format from string\n",
    "df['datetime'] = pd.to_datetime(df['date'], infer_datetime_format=True)\n",
    "display(df)\n",
    "df.dtypes"
   ]
  },
  {
   "cell_type": "code",
   "execution_count": null,
   "metadata": {},
   "outputs": [],
   "source": [
    "# Converts date string column to python datetime type\n",
    "# `format` argument specifies the format of date to parse, fails on errors\n",
    "df['datetime'] = pd.to_datetime(df['date'], format='%Y.%m.%d')\n",
    "display(df)\n",
    "df.dtypes"
   ]
  },
  {
   "cell_type": "markdown",
   "metadata": {},
   "source": [
    "**Excercise 1**\n",
    "1. Add to dataframe 1 column which contains day (1..31)\n",
    "2. Add to dataframe 1 column which contains month (format: \"mm-yyyy\""
   ]
  },
  {
   "cell_type": "markdown",
   "metadata": {},
   "source": [
    "## Handling categorical values\n",
    "1. Ordinal\n",
    "2. Binary\n",
    "3. Nominal (One-hot)"
   ]
  },
  {
   "cell_type": "code",
   "execution_count": null,
   "metadata": {},
   "outputs": [],
   "source": [
    "# 1. Ordinary\n",
    "df = pd.DataFrame({\"name\": [\"Nguyen Van A\", \"Nguyen Van B\", \"Nguyen Van C\"], \"grade\": [\"A\", \"B\", \"A+\"]})\n",
    "\n",
    "# # TODO: create a dictionary grades which keys-values: 'A+' - 4.0, 'A-' - 3.7, \"B+' - 3.3, 'B' - 3.0\n",
    "grades = {\n",
    "}\n",
    "\n",
    "# # TODO: apply a function to column grade to convert grades to numbers\n",
    "df['grade_numeric'] = _"
   ]
  },
  {
   "cell_type": "code",
   "execution_count": null,
   "metadata": {},
   "outputs": [],
   "source": [
    "# 2. Binary\n",
    "df = pd.DataFrame({\"name\": [\"Nguyen Van A\", \"Nguyen Van B\", \"Nguyen Thị C\"], \"gender\": [\"Male\", \"Male\", \"Female\"]})\n",
    "df\n",
    "# # TODO: apply a function to column gender to convert gender into True (for male) and False (for female)\n",
    "df['gender_indicator'] = _"
   ]
  },
  {
   "cell_type": "code",
   "execution_count": null,
   "metadata": {},
   "outputs": [],
   "source": [
    "# Install sklearn v0.23.2\n",
    "!pip install -U scikit-learn==0.23.2"
   ]
  },
  {
   "cell_type": "code",
   "execution_count": null,
   "metadata": {},
   "outputs": [],
   "source": [
    "# 3. One hot \n",
    "\n",
    "from sklearn.preprocessing import LabelEncoder, OneHotEncoder\n",
    "\n",
    "df = pd.DataFrame({\"name\": [\"Nguyen Van A\", \"Nguyen Van B\", \"Nguyen Thị C\"], \\\n",
    "                  \"interests\": [\"Sport\", \"Music\", \"Book\"]})\n",
    "\n",
    "prefix = 'category'\n",
    "ohe = OneHotEncoder(sparse=False)\n",
    "ohe = ohe.fit(df[['interests']])\n",
    "onehot_encoded = ohe.transform(df[['interests']])\n",
    "# onehot_encoded\n",
    "features_names_prefixed = [ f\"{prefix}_{category}\" for category in ohe.categories_[0]]\n",
    "df = pd.concat([df, pd.DataFrame(onehot_encoded, columns=features_names_prefixed)], axis=1)\n",
    "\n",
    "# # now drop the original 'category' column (you don't need it anymore)\n",
    "df.drop(['interests'],axis=1, inplace=True)"
   ]
  },
  {
   "cell_type": "markdown",
   "metadata": {},
   "source": [
    "Give your explain about output?"
   ]
  }
 ],
 "metadata": {
  "kernelspec": {
   "display_name": "Python 3",
   "language": "python",
   "name": "python3"
  },
  "language_info": {
   "codemirror_mode": {
    "name": "ipython",
    "version": 3
   },
   "file_extension": ".py",
   "mimetype": "text/x-python",
   "name": "python",
   "nbconvert_exporter": "python",
   "pygments_lexer": "ipython3",
   "version": "3.7.6"
  }
 },
 "nbformat": 4,
 "nbformat_minor": 2
}
