{
 "cells": [
  {
   "cell_type": "markdown",
   "metadata": {},
   "source": [
    "# Tutorial 1\n",
    "\n",
    "**Data Preprocessing with python**\n",
    "\n",
    "Data Cleaning is the process of detecting and correcting (or removing) corrupt and inaccurate records from dataset  \n",
    "Data Missing ....."
   ]
  },
  {
   "cell_type": "markdown",
   "metadata": {},
   "source": [
    "### Step 1: Get data\n",
    "**About dataset: [Clothing Fit Dataset for Size Recommendation](https://www.kaggle.com/rmisra/clothing-fit-dataset-for-size-recommendation)**  \n",
    "In this tutorial, we use a dataset comprised of clothing feedback from customer and other information like reviews, ratings, product categories, catalog size, customers's measurement.  \n",
    "\n",
    "**Getting dataset using pandas**  \n",
    "We using pandas - an open source data analysis and manipulation tool. \n",
    "- Using read_jsons() function to import a json file data to jupyter"
   ]
  },
  {
   "cell_type": "code",
   "execution_count": null,
   "metadata": {
    "scrolled": true
   },
   "outputs": [],
   "source": [
    "import pandas as pd\n",
    "\n",
    "modcloth = pd.read_json(\"./Dataset/modcloth_final_data.json\", lines=True)\n",
    "modcloth.head()"
   ]
  },
  {
   "cell_type": "markdown",
   "metadata": {},
   "source": [
    "### Step 2: Dealing with missing value\n",
    "#### a. **Summary how many missing value in each features**  \n",
    "- Using isnull() function to detect missing value.\n",
    "- sum() function to sum of values for the requested axis  \n",
    "*axis = 0: applied axis is index*  \n",
    "*axis =1: applied axis is column*\n",
    "\n",
    "**Let's look it**  \n",
    "In the previous cell, we see some columns which have some NaN values - missing values."
   ]
  },
  {
   "cell_type": "code",
   "execution_count": null,
   "metadata": {},
   "outputs": [],
   "source": [
    "# get the number of missing data in the bra size column\n",
    "modcloth[[\"bra size\"]].isnull().sum(axis=0)"
   ]
  },
  {
   "cell_type": "markdown",
   "metadata": {},
   "source": [
    "**Excercise 1**  \n",
    "How many missing value are there in the bust, cup size, height?"
   ]
  },
  {
   "cell_type": "code",
   "execution_count": null,
   "metadata": {},
   "outputs": [],
   "source": [
    "## Todo"
   ]
  },
  {
   "cell_type": "markdown",
   "metadata": {},
   "source": [
    "#### b. **Drop missing values**  \n",
    "- Using notnull() to detect non-missing values.  \n",
    "- Using [dropna()](https://pandas.pydata.org/pandas-docs/stable/reference/api/pandas.DataFrame.dropna.html) to remove missing values.  \n",
    "- Using [fillna()](https://pandas.pydata.org/pandas-docs/stable/reference/api/pandas.DataFrame.fillna.html): Fill NA/NaN values using the specified method.\n",
    "\n",
    "**Let's look it**  "
   ]
  },
  {
   "cell_type": "code",
   "execution_count": null,
   "metadata": {},
   "outputs": [],
   "source": [
    "# We are going to drop rows where the bra size column values are missing\n",
    "modcloth_subset = modcloth[modcloth[\"bra size\"].notnull()]\n",
    "\n",
    "# get the number of missing data in the bra size column\n",
    "modcloth_subset[[\"bra size\"]].isnull().sum(axis=0)"
   ]
  },
  {
   "cell_type": "markdown",
   "metadata": {},
   "source": [
    "**Excercise 2**  \n",
    "Let's get a subset data where all values of **height** column are not missing from the above modcloth_subset! "
   ]
  },
  {
   "cell_type": "code",
   "execution_count": null,
   "metadata": {},
   "outputs": [],
   "source": [
    "# Todo:"
   ]
  },
  {
   "cell_type": "markdown",
   "metadata": {},
   "source": [
    "We can also using *dropna()* function to remove missing value"
   ]
  },
  {
   "cell_type": "code",
   "execution_count": null,
   "metadata": {},
   "outputs": [],
   "source": [
    "# Drop column with missing values\n",
    "columns_with_na_dropped = modcloth.dropna(axis=1)\n",
    "\n",
    "# just how much data did we lose?\n",
    "print(\"Columns in original dataset: %d \\n\" % modcloth.shape[1])\n",
    "print(\"Columns with na's dropped: %d\" % columns_with_na_dropped.shape[1])"
   ]
  },
  {
   "cell_type": "markdown",
   "metadata": {},
   "source": [
    "Replacing missing values is a popular method to dealing with missing values"
   ]
  },
  {
   "cell_type": "code",
   "execution_count": null,
   "metadata": {},
   "outputs": [],
   "source": [
    "# replace all NaN's with 0\n",
    "modcloth.fillna(0).head()"
   ]
  },
  {
   "cell_type": "code",
   "execution_count": null,
   "metadata": {},
   "outputs": [],
   "source": [
    "# replace all NA's the value that comes directly after it in the same column, \n",
    "# then replace all the reamining na's with 0\n",
    "modcloth.fillna(method = 'bfill', axis=0).fillna(0).head()"
   ]
  },
  {
   "cell_type": "markdown",
   "metadata": {},
   "source": [
    "**Excercise 3**  \n",
    "- Let's understand the other methods using in [fillna()](https://pandas.pydata.org/pandas-docs/stable/reference/api/pandas.DataFrame.fillna.html)\n",
    "- You have to replace all NA value using fillna with method ffill"
   ]
  },
  {
   "cell_type": "code",
   "execution_count": null,
   "metadata": {},
   "outputs": [],
   "source": [
    "## Todo\n",
    "modcloth.fillna(method = 'ffill', axis=0)"
   ]
  },
  {
   "cell_type": "code",
   "execution_count": null,
   "metadata": {},
   "outputs": [],
   "source": []
  }
 ],
 "metadata": {
  "kernelspec": {
   "display_name": "Python 3",
   "language": "python",
   "name": "python3"
  },
  "language_info": {
   "codemirror_mode": {
    "name": "ipython",
    "version": 3
   },
   "file_extension": ".py",
   "mimetype": "text/x-python",
   "name": "python",
   "nbconvert_exporter": "python",
   "pygments_lexer": "ipython3",
   "version": "3.7.6"
  }
 },
 "nbformat": 4,
 "nbformat_minor": 2
}
